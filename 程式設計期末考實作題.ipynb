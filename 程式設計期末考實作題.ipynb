{
  "nbformat": 4,
  "nbformat_minor": 0,
  "metadata": {
    "colab": {
      "provenance": [],
      "authorship_tag": "ABX9TyMfCa2ZPjdNWjx3lT+3RLWG",
      "include_colab_link": true
    },
    "kernelspec": {
      "name": "python3",
      "display_name": "Python 3"
    },
    "language_info": {
      "name": "python"
    }
  },
  "cells": [
    {
      "cell_type": "markdown",
      "metadata": {
        "id": "view-in-github",
        "colab_type": "text"
      },
      "source": [
        "<a href=\"https://colab.research.google.com/github/chou0406/homework/blob/main/%E7%A8%8B%E5%BC%8F%E8%A8%AD%E8%A8%88%E6%9C%9F%E6%9C%AB%E8%80%83%E5%AF%A6%E4%BD%9C%E9%A1%8C.ipynb\" target=\"_parent\"><img src=\"https://colab.research.google.com/assets/colab-badge.svg\" alt=\"Open In Colab\"/></a>"
      ]
    },
    {
      "cell_type": "code",
      "source": [
        "class City:\n",
        "    def __init__(self, name, x, y, accommodation_cost):\n",
        "        self.name = name\n",
        "        self.x = x\n",
        "        self.y = y\n",
        "        self.accommodation_cost = accommodation_cost\n",
        "\n",
        "    def calculate_discounted_cost(self, previous_city):\n",
        "        if previous_city is None:\n",
        "            return self.accommodation_cost\n",
        "        elif previous_city.name in ['甲', '乙']:\n",
        "            return round(self.accommodation_cost * 0.8, 1)\n",
        "        elif previous_city.name in ['丙', '庚']:\n",
        "            return round(self.accommodation_cost * 0.8, 1)\n",
        "        elif previous_city.name in ['丁', '戊']:\n",
        "            return round(self.accommodation_cost * 0.8, 1)\n",
        "        elif previous_city.name in ['己']:\n",
        "            return round(self.accommodation_cost * 0.8, 1)\n",
        "\n",
        "\n",
        "甲 = City(\"甲\", 0, 0, 2000)\n",
        "乙 = City(\"乙\", 0, 120, 2400)\n",
        "丙 = City(\"丙\", 30, 100, 2400)\n",
        "丁 = City(\"丁\", 80, 0, 1600)\n",
        "戊 = City(\"戊\", 45, 10, 1500)\n",
        "己 = City(\"己\", 90, 160, 2200)\n",
        "庚 = City(\"庚\", 120, 200, 1200)\n",
        "\n",
        "cities = [甲, 乙, 丙, 丁, 戊, 己, 庚]\n",
        "visited_cities = []\n",
        "cheapest_route = []\n",
        "cheapest_cost = float('inf')\n",
        "\n",
        "\n",
        "def find_cheapest_route(current_city, total_cost, route):\n",
        "    global cheapest_cost, cheapest_route\n",
        "\n",
        "    visited_cities.append(current_city)\n",
        "    route.append(current_city)\n",
        "\n",
        "    if len(visited_cities) == len(cities):\n",
        "        if total_cost < cheapest_cost:\n",
        "            cheapest_cost = total_cost\n",
        "            cheapest_route = route.copy()\n",
        "    else:\n",
        "        for city in cities:\n",
        "            if city not in visited_cities:\n",
        "                distance = ((current_city.x - city.x) ** 2 + (current_city.y - city.y) ** 2) ** 0.5\n",
        "                cost = round(distance * 100 + city.calculate_discounted_cost(current_city), 1)\n",
        "                find_cheapest_route(city, total_cost + cost, route)\n",
        "\n",
        "    visited_cities.remove(current_city)\n",
        "    route.remove(current_city)\n",
        "\n",
        "\n",
        "find_cheapest_route(甲, 0, [])\n",
        "print(\"旅游顺序：\")\n",
        "for city in cheapest_route:\n",
        "    print(city.name, end=\" -> \")\n",
        "print(\"结束\")\n",
        "print(\"总费用：\", round(cheapest_cost, 1))\n"
      ],
      "metadata": {
        "colab": {
          "base_uri": "https://localhost:8080/"
        },
        "id": "tTCwC0elNFb9",
        "outputId": "909d4d09-56d2-4bd5-c6f0-dabd565b907e"
      },
      "execution_count": 11,
      "outputs": [
        {
          "output_type": "stream",
          "name": "stdout",
          "text": [
            "旅游顺序：\n",
            "甲 -> 戊 -> 丁 -> 丙 -> 乙 -> 己 -> 庚 -> 结束\n",
            "总费用： 46924.7\n"
          ]
        }
      ]
    }
  ]
}